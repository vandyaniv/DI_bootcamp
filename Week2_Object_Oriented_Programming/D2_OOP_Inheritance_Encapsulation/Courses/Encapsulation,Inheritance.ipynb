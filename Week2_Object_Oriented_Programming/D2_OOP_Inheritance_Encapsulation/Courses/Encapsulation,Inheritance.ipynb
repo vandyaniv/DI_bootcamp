{
  "cells": [
    {
      "cell_type": "code",
      "execution_count": null,
      "metadata": {
        "colab": {
          "base_uri": "https://localhost:8080/"
        },
        "id": "9tX669LdZKrC",
        "outputId": "59093f10-6e1a-4270-fa02-f4aca3d7cfc3"
      },
      "outputs": [
        {
          "name": "stdout",
          "output_type": "stream",
          "text": [
            "This animal is a: dog\n",
            "This dog has 4  legs\n",
            "This dog makes the sound  wouaf\n",
            "I am an animal, and I love saying wouaf\n"
          ]
        }
      ],
      "source": [
        "class Animal():\n",
        "    def __init__(self, type, number_legs, sound):\n",
        "        self.type = type\n",
        "        self.number_legs = number_legs\n",
        "        self.sound = sound\n",
        "\n",
        "    def make_sound(self):\n",
        "        print(f\"I am an animal, and I love saying {self.sound}\")\n",
        "\n",
        "class Dog(Animal):\n",
        "    pass\n",
        "\n",
        "rex= Dog(\"dog\", 4, \"wouaf\")\n",
        "print('This animal is a:', rex.type)\n",
        "# >> This animal is a dog\n",
        "\n",
        "print('This dog has', rex.number_legs , ' legs')\n",
        "# >> This dog has 4 legs\n",
        "\n",
        "print('This dog makes the sound ', rex.sound)\n",
        "# >> This dog makes the sound wouaf\n",
        "\n",
        "rex.make_sound()\n",
        "# >> I am an animal, and I love saying wouaf"
      ]
    },
    {
      "cell_type": "code",
      "execution_count": null,
      "metadata": {
        "colab": {
          "base_uri": "https://localhost:8080/"
        },
        "id": "2MG7ccmpZmGo",
        "outputId": "989cdb5f-5aa8-47ec-bbf4-1d601ef66444"
      },
      "outputs": [
        {
          "name": "stdout",
          "output_type": "stream",
          "text": [
            "This animal is a: dog\n",
            "This animal is a: german shepherd\n",
            "I am a dog, and I love fetching balls\n",
            "This animal is a dog\n",
            "This animal has 4 legs\n",
            "This animal makes the sound Wouaf\n",
            "This dog is a german shepherd\n"
          ]
        }
      ],
      "source": [
        "class Animal():\n",
        "    def __init__(self, type, number_legs, sound):\n",
        "        self.type = type\n",
        "        self.number_legs = number_legs\n",
        "        self.sound = sound\n",
        "\n",
        "    def print_info(self):\n",
        "        print(f\"This animal is a {self.type}\")\n",
        "        print(f\"This animal has {self.number_legs} legs\")\n",
        "        print(f\"This animal makes the sound {self.sound}\")\n",
        "\n",
        "    def make_sound(self):\n",
        "        print(f\"I am an animal, and I love saying {self.sound}\")\n",
        "\n",
        "class Dog(Animal):\n",
        "    def __init__(self,type, number_legs, sound,breed):\n",
        "        super().__init__(type, number_legs, sound)\n",
        "        self.breed = breed\n",
        "\n",
        "    def print_info(self):\n",
        "        super().print_info()\n",
        "        print(f\"This dog is a {self.breed}\")\n",
        "\n",
        "    def fetch_ball(self):\n",
        "        print(\"I am a dog, and I love fetching balls\")\n",
        "\n",
        "rex = Dog('dog', 4, \"Wouaf\", \"german shepherd\")\n",
        "print('This animal is a:', rex.type)\n",
        "print('This animal is a:', rex.breed)\n",
        "# >> This animal is a dog\n",
        "\n",
        "rex.fetch_ball()\n",
        "rex.print_info()\n",
        "# >> I am a dog, and I love fetching balls\n",
        "\n",
        "# roger = Animal('Roger', 4, \"Grr\")\n",
        "# roger.fetch_ball()\n",
        "# >> AttributeError: 'Animal' object has no attribute 'fetch_ball'"
      ]
    },
    {
      "cell_type": "code",
      "execution_count": null,
      "metadata": {
        "colab": {
          "base_uri": "https://localhost:8080/"
        },
        "id": "e8sOoIQBZq__",
        "outputId": "6eb46a9b-f3fd-4b56-d492-440c1afc6aef"
      },
      "outputs": [
        {
          "name": "stdout",
          "output_type": "stream",
          "text": [
            "blue\n",
            "yellow\n"
          ]
        }
      ],
      "source": [
        "class Circle:\n",
        "    color = \"red\"\n",
        "\n",
        "class NewCircle(Circle):\n",
        "    color = \"blue\"\n",
        "\n",
        "nc = NewCircle\n",
        "print(nc.color)\n",
        "NewCircle.color = \"yellow\"\n",
        "print(nc.color)\n",
        "#an instance attribute will be initiated in the init function\n",
        "#a class attribute can be initiated outside of the init"
      ]
    },
    {
      "cell_type": "code",
      "execution_count": null,
      "metadata": {
        "colab": {
          "base_uri": "https://localhost:8080/"
        },
        "id": "zuyHouWPdhfD",
        "outputId": "c1a4f174-4252-4006-eaf9-8efe1006abda"
      },
      "outputs": [
        {
          "name": "stdout",
          "output_type": "stream",
          "text": [
            "Buddy\n",
            "Golden retriever\n",
            "Golden retriever\n",
            "3\n"
          ]
        }
      ],
      "source": [
        "class Dog_golden:\n",
        "  species = \"Golden retriever\"\n",
        "  number_of_dogs = 0\n",
        "  def __init__(self, name, age):\n",
        "    self.name = name\n",
        "    self.age = age\n",
        "    Dog_golden.number_of_dogs += 1\n",
        "\n",
        "dog1 = Dog_golden(\"Buddy\", 5)\n",
        "dog1 = Dog_golden(\"Buddy\", 5)\n",
        "dog3 = Dog_golden(\"Charlie\", 7)\n",
        "print(dog1.name)\n",
        "\n",
        "print(dog1.species)\n",
        "\n",
        "print(Dog_golden.species)\n",
        "\n",
        "print(Dog_golden.number_of_dogs)\n",
        "\n",
        "\n"
      ]
    },
    {
      "cell_type": "code",
      "execution_count": null,
      "metadata": {
        "colab": {
          "base_uri": "https://localhost:8080/"
        },
        "id": "l812k0DOfdbm",
        "outputId": "a652671f-62a5-42b0-9a52-4891cb41c669"
      },
      "outputs": [
        {
          "name": "stdout",
          "output_type": "stream",
          "text": [
            "red\n",
            "red\n"
          ]
        }
      ],
      "source": [
        "class Circle:\n",
        "    color = \"red\"\n",
        "    print(color)\n",
        "\n",
        "class NewCircle(Circle):\n",
        "    pass\n",
        "\n",
        "nc = NewCircle\n",
        "print(nc.color)"
      ]
    },
    {
      "cell_type": "code",
      "execution_count": null,
      "metadata": {
        "colab": {
          "base_uri": "https://localhost:8080/"
        },
        "id": "fEjidhO-iqdw",
        "outputId": "da1a929d-cbba-4f2c-ac12-22a2312b29d8"
      },
      "outputs": [
        {
          "name": "stdout",
          "output_type": "stream",
          "text": [
            "1\n",
            "2\n"
          ]
        }
      ],
      "source": [
        "class Circle:\n",
        "    def __init__(self, diameter):\n",
        "      self.diameter = diameter\n",
        "\n",
        "    def grow(self, factor=2):\n",
        "        \"\"\"grows the circle's diameter by factor\"\"\"\n",
        "        self.diameter = self.diameter * factor\n",
        "\n",
        "class NewCircle(Circle):\n",
        "    def grow(self, factor=2):\n",
        "        \"\"\"grows the area by factor...\"\"\"\n",
        "        self.diameter = (self.diameter * factor * 2)\n",
        "\n",
        "nc = Circle(1)\n",
        "print(nc.diameter)\n",
        "\n",
        "nc.grow()\n",
        "\n",
        "print(nc.diameter)"
      ]
    },
    {
      "cell_type": "code",
      "execution_count": null,
      "metadata": {
        "colab": {
          "base_uri": "https://localhost:8080/"
        },
        "id": "9AY_nwZsnKzt",
        "outputId": "04555e02-ee47-4250-da7e-8c44c34c5e2f"
      },
      "outputs": [
        {
          "name": "stdout",
          "output_type": "stream",
          "text": [
            "I am an animal, and I love saying Wouaf\n",
            "I am an DOGGG !!! WOUAFFF!!\n"
          ]
        }
      ],
      "source": [
        "class Animal():\n",
        "    def __init__(self, type, number_legs, sound):\n",
        "        self.type = type\n",
        "        self.number_legs = number_legs\n",
        "        self.sound = sound\n",
        "\n",
        "    def make_sound(self):\n",
        "        print(f\"I am an animal, and I love saying {self.sound}\")\n",
        "\n",
        "class Dog(Animal):\n",
        "    def fetch_ball(self):\n",
        "        print(\"I am a dog, and I love fetching balls\")\n",
        "\n",
        "    def make_sound(self):\n",
        "        super().make_sound()\n",
        "        print(\"I am an DOGGG !!! WOUAFFF!!\")\n",
        "\n",
        "rex = Dog('dog', 4, \"Wouaf\")\n",
        "rex.make_sound()"
      ]
    },
    {
      "cell_type": "code",
      "execution_count": null,
      "metadata": {
        "colab": {
          "base_uri": "https://localhost:8080/",
          "height": 332
        },
        "id": "90tD56K4ntzq",
        "outputId": "a9abdad3-9ee3-49ca-8c18-afe1f11dc7aa"
      },
      "outputs": [
        {
          "name": "stdout",
          "output_type": "stream",
          "text": [
            "I'm actually being called from the Child class\n",
            "But...\n"
          ]
        },
        {
          "ename": "TypeError",
          "evalue": "super(type, obj): obj must be an instance or subtype of type",
          "output_type": "error",
          "traceback": [
            "\u001b[0;31m---------------------------------------------------------------------------\u001b[0m",
            "\u001b[0;31mTypeError\u001b[0m                                 Traceback (most recent call last)",
            "\u001b[0;32m<ipython-input-32-8594d3039625>\u001b[0m in \u001b[0;36m<cell line: 15>\u001b[0;34m()\u001b[0m\n\u001b[1;32m     13\u001b[0m \u001b[0;34m\u001b[0m\u001b[0m\n\u001b[1;32m     14\u001b[0m \u001b[0mmy_instance_2\u001b[0m \u001b[0;34m=\u001b[0m \u001b[0mChildClass\u001b[0m\u001b[0;34m(\u001b[0m\u001b[0;34m)\u001b[0m\u001b[0;34m\u001b[0m\u001b[0;34m\u001b[0m\u001b[0m\n\u001b[0;32m---> 15\u001b[0;31m \u001b[0mmy_instance_2\u001b[0m\u001b[0;34m.\u001b[0m\u001b[0mfunc\u001b[0m\u001b[0;34m(\u001b[0m\u001b[0;34m)\u001b[0m\u001b[0;34m\u001b[0m\u001b[0;34m\u001b[0m\u001b[0m\n\u001b[0m",
            "\u001b[0;32m<ipython-input-32-8594d3039625>\u001b[0m in \u001b[0;36mfunc\u001b[0;34m(self)\u001b[0m\n\u001b[1;32m     10\u001b[0m         \u001b[0mx\u001b[0m\u001b[0;34m=\u001b[0m\u001b[0;36m5\u001b[0m\u001b[0;34m\u001b[0m\u001b[0;34m\u001b[0m\u001b[0m\n\u001b[1;32m     11\u001b[0m         \u001b[0;31m# Calling the `func()` method from the Parent class.\u001b[0m\u001b[0;34m\u001b[0m\u001b[0;34m\u001b[0m\u001b[0m\n\u001b[0;32m---> 12\u001b[0;31m         \u001b[0msuper\u001b[0m\u001b[0;34m(\u001b[0m\u001b[0mChildClass\u001b[0m\u001b[0;34m,\u001b[0m \u001b[0mx\u001b[0m\u001b[0;34m)\u001b[0m\u001b[0;34m.\u001b[0m\u001b[0mfunc\u001b[0m\u001b[0;34m(\u001b[0m\u001b[0;34m)\u001b[0m\u001b[0;34m\u001b[0m\u001b[0;34m\u001b[0m\u001b[0m\n\u001b[0m\u001b[1;32m     13\u001b[0m \u001b[0;34m\u001b[0m\u001b[0m\n\u001b[1;32m     14\u001b[0m \u001b[0mmy_instance_2\u001b[0m \u001b[0;34m=\u001b[0m \u001b[0mChildClass\u001b[0m\u001b[0;34m(\u001b[0m\u001b[0;34m)\u001b[0m\u001b[0;34m\u001b[0m\u001b[0;34m\u001b[0m\u001b[0m\n",
            "\u001b[0;31mTypeError\u001b[0m: super(type, obj): obj must be an instance or subtype of type"
          ]
        }
      ],
      "source": [
        "class MyClass(object):\n",
        "    def func(self,x):\n",
        "        print(f\"I'm being called from the Parent class {x}\")\n",
        "\n",
        "\n",
        "class ChildClass(MyClass):\n",
        "    def func(self):\n",
        "        print(\"I'm actually being called from the Child class\")\n",
        "        print(\"But...\")\n",
        "        x=5\n",
        "        # Calling the `func()` method from the Parent class.\n",
        "        super(ChildClass, self).func()\n",
        "\n",
        "my_instance_2 = ChildClass()\n",
        "my_instance_2.func()"
      ]
    },
    {
      "cell_type": "code",
      "execution_count": null,
      "metadata": {
        "colab": {
          "base_uri": "https://localhost:8080/"
        },
        "id": "t7VtyQn5tvUG",
        "outputId": "c39d0d47-a58f-4390-f5ab-6c1d482c439f"
      },
      "outputs": [
        {
          "name": "stdout",
          "output_type": "stream",
          "text": [
            "Toyota Corolla is starting.\n",
            "Opening the trunk of the Toyota Corolla.\n",
            "Toyota Corolla is stopping.\n",
            "Harley-Davidson Street 750 is starting.\n",
            "Harley-Davidson Street 750 is popping a wheelie!\n",
            "Harley-Davidson Street 750 is stopping.\n"
          ]
        }
      ],
      "source": [
        "# Base class\n",
        "class Vehicle:\n",
        "    def __init__(self, make, model):\n",
        "        self.make = make\n",
        "        self.model = model\n",
        "\n",
        "    def start(self):\n",
        "        print(f\"{self.make} {self.model} is starting.\")\n",
        "\n",
        "    def stop(self):\n",
        "        print(f\"{self.make} {self.model} is stopping.\")\n",
        "\n",
        "# Derived class: Car\n",
        "class Car(Vehicle):\n",
        "    def __init__(self, make, model, number_of_doors):\n",
        "        super().__init__(make, model)\n",
        "        self.number_of_doors = number_of_doors\n",
        "\n",
        "    def open_trunk(self):\n",
        "        print(f\"Opening the trunk of the {self.make} {self.model}.\")\n",
        "\n",
        "# Derived class: Motorcycle\n",
        "class Motorcycle(Vehicle):\n",
        "    def __init__(self, make, model, has_sidecar):\n",
        "        super().__init__(make, model)\n",
        "        self.has_sidecar = has_sidecar\n",
        "\n",
        "    def pop_wheelie(self):\n",
        "        print(f\"{self.make} {self.model} is popping a wheelie!\")\n",
        "\n",
        "# Creating a Car instance\n",
        "car = Car(\"Toyota\", \"Corolla\", 4)\n",
        "car.start()           # Output: Toyota Corolla is starting.\n",
        "car.open_trunk()      # Output: Opening the trunk of the Toyota Corolla.\n",
        "car.stop()            # Output: Toyota Corolla is stopping.\n",
        "\n",
        "# Creating a Motorcycle instance\n",
        "motorcycle = Motorcycle(\"Harley-Davidson\", \"Street 750\", False)\n",
        "motorcycle.start()    # Output: Harley-Davidson Street 750 is starting.\n",
        "motorcycle.pop_wheelie()  # Output: Harley-Davidson Street 750 is popping a wheelie!\n",
        "motorcycle.stop()     # Output: Harley-Davidson Street 750 is stopping.\n"
      ]
    },
    {
      "cell_type": "code",
      "execution_count": null,
      "metadata": {
        "colab": {
          "base_uri": "https://localhost:8080/"
        },
        "id": "jIxcaKXYwrka",
        "outputId": "049d1f99-b43f-4811-d939-ab519512b048"
      },
      "outputs": [
        {
          "name": "stdout",
          "output_type": "stream",
          "text": [
            "the door is open\n",
            "the door is closed\n",
            "division by zero\n",
            "the door is blocked\n"
          ]
        }
      ],
      "source": [
        "class Door:\n",
        "  def __init__(self, is_opened =False):\n",
        "    self.is_opened = is_opened\n",
        "\n",
        "  def open(self):\n",
        "    if not self.is_opened:\n",
        "      self.is_opened = True\n",
        "      print(\"the door is open\")\n",
        "    else:\n",
        "      print(\"the door is already open\")\n",
        "\n",
        "  def close(self):\n",
        "    if self.is_opened:\n",
        "      self.is_opened = False\n",
        "      print(\"the door is closed\")\n",
        "    else:\n",
        "      print(\"the door is already closed\")\n",
        "\n",
        "class BlockedDoor(Door):\n",
        "    def open(self):\n",
        "        x=5\n",
        "        y=x/0\n",
        "    def close(self):\n",
        "        raise Exception(\"A blocked door cannot be closed\")\n",
        "\n",
        "try:\n",
        "    door = Door()\n",
        "    door.open()\n",
        "    door.close()\n",
        "    door = BlockedDoor()\n",
        "    door.open()\n",
        "except Exception as a:\n",
        "    print(a)\n",
        "    print(\"the door is blocked\")"
      ]
    },
    {
      "cell_type": "code",
      "execution_count": null,
      "metadata": {
        "colab": {
          "base_uri": "https://localhost:8080/"
        },
        "id": "Zy7jso3q00aD",
        "outputId": "202e0cb6-6dc1-48ca-e703-837f0dff2a90"
      },
      "outputs": [
        {
          "name": "stdout",
          "output_type": "stream",
          "text": [
            "Selling Price: 900\n",
            "This is private method\n",
            "1000\n"
          ]
        }
      ],
      "source": [
        "class Computer():\n",
        "\n",
        "    def __init__(self):\n",
        "        self.name = \"Apple Computer\" # public\n",
        "        self._max_price = 900 # private\n",
        "\n",
        "    def sell(self):            # public method\n",
        "        print(f\"Selling Price: {self._max_price}\")\n",
        "        self._sell()\n",
        "\n",
        "    def _sell(self):          # private method\n",
        "      print('This is private method')\n",
        "\n",
        "    def set_max_price(self, price):#setter\n",
        "        self._max_price = price\n",
        "    def get_max_price(self):#getter\n",
        "        return self._max_price\n",
        "\n",
        "\n",
        "c = Computer()\n",
        "c.sell()\n",
        "c = Computer()\n",
        "c.set_max_price(1000)\n",
        "\n",
        "print(c._max_price)"
      ]
    },
    {
      "cell_type": "code",
      "execution_count": null,
      "metadata": {
        "id": "cRD1jcaF20UX"
      },
      "outputs": [],
      "source": [
        "from abc import ABC, abstractmethod\n",
        "\n",
        "class Animal(ABC):\n",
        "    @abstractmethod\n",
        "    def move(self):\n",
        "        pass\n",
        "\n",
        "class Fish(Animal):\n",
        "    def move(self):\n",
        "        return \"Swims\"\n",
        "\n",
        "class Bird(Animal):\n",
        "    def move(self):\n",
        "        return \"Flies\"\n",
        "\n",
        "class Human(Animal):\n",
        "    def move(self):\n",
        "        return \"Walks\""
      ]
    },
    {
      "cell_type": "code",
      "execution_count": null,
      "metadata": {
        "colab": {
          "base_uri": "https://localhost:8080/"
        },
        "id": "kzJITX7u4mx5",
        "outputId": "abb150a5-1c36-4654-95be-84b657041927"
      },
      "outputs": [
        {
          "name": "stdout",
          "output_type": "stream",
          "text": [
            "Dog barks\n",
            "Cat meows\n"
          ]
        }
      ],
      "source": [
        "class Animal:\n",
        "    def speak(self):\n",
        "        print(\"Animal speaks\")\n",
        "\n",
        "class Dog(Animal):\n",
        "    def speak(self):\n",
        "        print(\"Dog barks\")\n",
        "\n",
        "class Cat(Animal):\n",
        "    def speak(self):\n",
        "        print(\"Cat meows\")\n",
        "\n",
        "def animal_sound(animal):\n",
        "    animal.speak()\n",
        "\n",
        "dog = Dog()\n",
        "Cat = Cat()\n",
        "animal_sound(dog)\n",
        "animal_sound(Cat)"
      ]
    },
    {
      "cell_type": "code",
      "execution_count": null,
      "metadata": {
        "colab": {
          "base_uri": "https://localhost:8080/"
        },
        "id": "b9y6W95c5o0e",
        "outputId": "0571e52b-c16b-487d-b327-a67463a457eb"
      },
      "outputs": [
        {
          "name": "stdout",
          "output_type": "stream",
          "text": [
            "12\n"
          ]
        }
      ],
      "source": [
        "x=5\n",
        "y=7\n",
        "print(x+y)"
      ]
    },
    {
      "cell_type": "code",
      "execution_count": null,
      "metadata": {
        "colab": {
          "base_uri": "https://localhost:8080/"
        },
        "id": "JORLXwqI5utJ",
        "outputId": "6b7430f2-3737-43d6-d1a8-798af33a9eb3"
      },
      "outputs": [
        {
          "name": "stdout",
          "output_type": "stream",
          "text": [
            "57\n"
          ]
        }
      ],
      "source": [
        "x=\"5\"\n",
        "y=\"7\"\n",
        "print(x+y)"
      ]
    },
    {
      "cell_type": "code",
      "execution_count": null,
      "metadata": {
        "colab": {
          "base_uri": "https://localhost:8080/"
        },
        "id": "QSLXTPaT60GU",
        "outputId": "9cdf6b34-7d2e-492d-cfcc-d5ad00d0b98b"
      },
      "outputs": [
        {
          "name": "stdout",
          "output_type": "stream",
          "text": [
            "zzzZZZZZ\n",
            "Roger barked, WAF !\n",
            "Rex is flying!\n",
            "zzzZZZZZ\n",
            "Rex barked, 0ul10ul0u (that's how aliens dogs bark..) !\n"
          ]
        }
      ],
      "source": [
        "class Alien():\n",
        "    def __init__(self, name, planet):\n",
        "        self.name = name\n",
        "        self.planet = planet\n",
        "\n",
        "    def fly(self):\n",
        "        print(self.name, 'is flying!')\n",
        "\n",
        "    def sleep(self):\n",
        "        print(\"Aliens don't sleep\")\n",
        "\n",
        "class Animal():\n",
        "    def __init__(self, name):\n",
        "        self.name = name\n",
        "\n",
        "    def sleep(self):\n",
        "        print(\"zzzZZZZZ\")\n",
        "\n",
        "class Dog(Animal):\n",
        "    def bark(self):\n",
        "        print(\"{} barked, WAF !\".format(self.name))\n",
        "\n",
        "class AlienDog(Dog,Alien):\n",
        "    def bark(self):\n",
        "        print(\"{} barked, 0ul10ul0u (that's how aliens dogs bark..) !\".format(self.name))\n",
        "\n",
        "\n",
        "my_normal_dog = Dog(\"Roger\")\n",
        "my_normal_dog.sleep()\n",
        "# >> zzzZZZZZ\n",
        "\n",
        "my_normal_dog.bark()\n",
        "# >> Roger barked, WAF !\n",
        "\n",
        "my_alien_dog = AlienDog(\"Rex\")\n",
        "\n",
        "# >> Neptune\n",
        "\n",
        "my_alien_dog.fly()\n",
        "# >> Rex is flying!\n",
        "\n",
        "my_alien_dog.sleep()\n",
        "# >> Aliens don't sleep\n",
        "\n",
        "my_alien_dog.bark()\n",
        "# >> Re"
      ]
    },
    {
      "cell_type": "code",
      "execution_count": null,
      "metadata": {
        "colab": {
          "base_uri": "https://localhost:8080/"
        },
        "id": "bGOia6CX8XD4",
        "outputId": "3bcd9614-3f12-423c-f4b6-3a8483a10e36"
      },
      "outputs": [
        {
          "name": "stdout",
          "output_type": "stream",
          "text": [
            "doing this in A\n"
          ]
        }
      ],
      "source": [
        "class A():\n",
        "\n",
        "    def dothis(self):\n",
        "        print(\"doing this in A\")\n",
        "\n",
        "\n",
        "class B(A):\n",
        "    pass\n",
        "\n",
        "\n",
        "class C():\n",
        "    def dothis(self):\n",
        "        print(\"doing this in C\")\n",
        "\n",
        "\n",
        "class D(C, B):\n",
        "    pass\n",
        "\n",
        "d_instance = D()\n",
        "d_instance.dothis1()"
      ]
    }
  ],
  "metadata": {
    "colab": {
      "provenance": []
    },
    "kernelspec": {
      "display_name": "Python 3",
      "name": "python3"
    },
    "language_info": {
      "name": "python"
    }
  },
  "nbformat": 4,
  "nbformat_minor": 0
}
